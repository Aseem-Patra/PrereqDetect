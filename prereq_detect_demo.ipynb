{
 "cells": [
  {
   "cell_type": "code",
   "execution_count": 1,
   "metadata": {},
   "outputs": [],
   "source": [
    "import pandas as pd"
   ]
  },
  {
   "cell_type": "markdown",
   "metadata": {},
   "source": [
    "**PreReq Detect Demo**\n",
    "\n",
    "Here we will show off the basic idea behind the PreReq Detect application and how it would be used by a student at the U of I.\n",
    "Let us first start with the the basic setup of the app."
   ]
  },
  {
   "cell_type": "markdown",
   "metadata": {},
   "source": [
    "**Data Ingestion**\n",
    "\n",
    "At the current time, we do not have access to the data where these minor and certificate requirements are stored. In the mean time, we will create a sample of how the data may be stored in order to test out our concept"
   ]
  },
  {
   "cell_type": "code",
   "execution_count": 2,
   "metadata": {},
   "outputs": [],
   "source": [
    "#For now, not listing all elective courses to save space. In future, may instead alter data to instead determine class options based on excluded courses.\n",
    "#Additionally, some other standard of how these courses are stored will need to change based on manner of different minors and certificates are listed.\n",
    "\n",
    "requirements = pd.DataFrame({\n",
    "                             'title' : ['minor_cs'],\n",
    "                             'required_courses' : [['cs_124', 'cs_128', 'cs_173', 'cs_225']],\n",
    "                             'elective_courses' : [['cs_307', 'cs_340', 'cs_341', 'cs_357', 'cs_361', 'cs_374', 'cs_407', 'cs_409']],\n",
    "                             'elective_num_required' : [2]\n",
    "})"
   ]
  },
  {
   "cell_type": "code",
   "execution_count": 3,
   "metadata": {},
   "outputs": [
    {
     "data": {
      "text/html": [
       "<div>\n",
       "<style scoped>\n",
       "    .dataframe tbody tr th:only-of-type {\n",
       "        vertical-align: middle;\n",
       "    }\n",
       "\n",
       "    .dataframe tbody tr th {\n",
       "        vertical-align: top;\n",
       "    }\n",
       "\n",
       "    .dataframe thead th {\n",
       "        text-align: right;\n",
       "    }\n",
       "</style>\n",
       "<table border=\"1\" class=\"dataframe\">\n",
       "  <thead>\n",
       "    <tr style=\"text-align: right;\">\n",
       "      <th></th>\n",
       "      <th>title</th>\n",
       "      <th>required_courses</th>\n",
       "      <th>elective_courses</th>\n",
       "      <th>elective_num_required</th>\n",
       "    </tr>\n",
       "  </thead>\n",
       "  <tbody>\n",
       "    <tr>\n",
       "      <th>0</th>\n",
       "      <td>minor_cs</td>\n",
       "      <td>[cs_124, cs_128, cs_173, cs_225]</td>\n",
       "      <td>[cs_307, cs_340, cs_341, cs_357, cs_361, cs_37...</td>\n",
       "      <td>2</td>\n",
       "    </tr>\n",
       "  </tbody>\n",
       "</table>\n",
       "</div>"
      ],
      "text/plain": [
       "      title                  required_courses  \\\n",
       "0  minor_cs  [cs_124, cs_128, cs_173, cs_225]   \n",
       "\n",
       "                                    elective_courses  elective_num_required  \n",
       "0  [cs_307, cs_340, cs_341, cs_357, cs_361, cs_37...                      2  "
      ]
     },
     "metadata": {},
     "output_type": "display_data"
    }
   ],
   "source": [
    "display(requirements)"
   ]
  },
  {
   "cell_type": "markdown",
   "metadata": {},
   "source": [
    "We now will generate some potential students and see if we can use them to determine if they have any of the requirements needed to qualify at all for the listed minors/certificates."
   ]
  },
  {
   "cell_type": "code",
   "execution_count": 4,
   "metadata": {},
   "outputs": [],
   "source": [
    "#Completed required courses\n",
    "student_1 = ['cs_124', 'cs_128', 'cs_173', 'cs_225']\n",
    "\n",
    "#Completed enough elective courses\n",
    "student_2 = ['cs_307', 'cs_340', 'cs_341']\n",
    "\n",
    "#Completed some required and some elective courses\n",
    "student_3 = ['cs_124', 'cs_307']\n",
    "\n",
    "#Completed neither any required or elective courses\n",
    "student_4 = ['stat_107']"
   ]
  },
  {
   "cell_type": "markdown",
   "metadata": {},
   "source": [
    "We create this function to be used as a checker for both the required and elective course lists. "
   ]
  },
  {
   "cell_type": "code",
   "execution_count": 14,
   "metadata": {},
   "outputs": [],
   "source": [
    "def req_finder(requirements, student):\n",
    "    '''\n",
    "        Input:\n",
    "            - requirements: DataFrame, contains each minor/certificate and the associated requirements needed to achieve them.\n",
    "            - student: List, contains list of all courses completed by a given student\n",
    "        Output:\n",
    "            - returns DataFrame containing minors/certificates the student has completed some number of needed courses from.\n",
    "        Purpose:\n",
    "            - req_finder returns only the minors/certificates the student has any amount of classes completed for.\n",
    "    '''\n",
    "    filtered_requirements = requirements[requirements['required_courses'].apply(lambda x: any(item in student for item in x))]\n",
    "    filtered_electives = requirements[requirements['elective_courses'].apply(lambda x: any(item in student for item in x))]    \n",
    "    \n",
    "    filtered_courses = pd.concat([filtered_requirements, filtered_electives])\n",
    "\n",
    "    filtered_courses['required_courses'] = filtered_courses['required_courses'].apply(tuple)\n",
    "    filtered_courses['elective_courses'] = filtered_courses['elective_courses'].apply(tuple)\n",
    "\n",
    "    qualifying_programs = filtered_courses.drop_duplicates()\n",
    "\n",
    "    #qualifying_programs['required_courses'] = qualifying_programs['required_courses'].apply(list)\n",
    "    #qualifying_programs['elective_courses'] = qualifying_programs['elective_courses'].apply(list)\n",
    "\n",
    "    return qualifying_programs"
   ]
  },
  {
   "cell_type": "code",
   "execution_count": 6,
   "metadata": {},
   "outputs": [
    {
     "data": {
      "text/html": [
       "<div>\n",
       "<style scoped>\n",
       "    .dataframe tbody tr th:only-of-type {\n",
       "        vertical-align: middle;\n",
       "    }\n",
       "\n",
       "    .dataframe tbody tr th {\n",
       "        vertical-align: top;\n",
       "    }\n",
       "\n",
       "    .dataframe thead th {\n",
       "        text-align: right;\n",
       "    }\n",
       "</style>\n",
       "<table border=\"1\" class=\"dataframe\">\n",
       "  <thead>\n",
       "    <tr style=\"text-align: right;\">\n",
       "      <th></th>\n",
       "      <th>title</th>\n",
       "      <th>required_courses</th>\n",
       "      <th>elective_courses</th>\n",
       "      <th>elective_num_required</th>\n",
       "    </tr>\n",
       "  </thead>\n",
       "  <tbody>\n",
       "    <tr>\n",
       "      <th>0</th>\n",
       "      <td>minor_cs</td>\n",
       "      <td>(cs_124, cs_128, cs_173, cs_225)</td>\n",
       "      <td>(cs_307, cs_340, cs_341, cs_357, cs_361, cs_37...</td>\n",
       "      <td>2</td>\n",
       "    </tr>\n",
       "  </tbody>\n",
       "</table>\n",
       "</div>"
      ],
      "text/plain": [
       "      title                  required_courses  \\\n",
       "0  minor_cs  (cs_124, cs_128, cs_173, cs_225)   \n",
       "\n",
       "                                    elective_courses  elective_num_required  \n",
       "0  (cs_307, cs_340, cs_341, cs_357, cs_361, cs_37...                      2  "
      ]
     },
     "metadata": {},
     "output_type": "display_data"
    }
   ],
   "source": [
    "test1 = req_finder(requirements, student_1)\n",
    "display(test1)"
   ]
  },
  {
   "cell_type": "code",
   "execution_count": 7,
   "metadata": {},
   "outputs": [
    {
     "data": {
      "text/html": [
       "<div>\n",
       "<style scoped>\n",
       "    .dataframe tbody tr th:only-of-type {\n",
       "        vertical-align: middle;\n",
       "    }\n",
       "\n",
       "    .dataframe tbody tr th {\n",
       "        vertical-align: top;\n",
       "    }\n",
       "\n",
       "    .dataframe thead th {\n",
       "        text-align: right;\n",
       "    }\n",
       "</style>\n",
       "<table border=\"1\" class=\"dataframe\">\n",
       "  <thead>\n",
       "    <tr style=\"text-align: right;\">\n",
       "      <th></th>\n",
       "      <th>title</th>\n",
       "      <th>required_courses</th>\n",
       "      <th>elective_courses</th>\n",
       "      <th>elective_num_required</th>\n",
       "    </tr>\n",
       "  </thead>\n",
       "  <tbody>\n",
       "    <tr>\n",
       "      <th>0</th>\n",
       "      <td>minor_cs</td>\n",
       "      <td>(cs_124, cs_128, cs_173, cs_225)</td>\n",
       "      <td>(cs_307, cs_340, cs_341, cs_357, cs_361, cs_37...</td>\n",
       "      <td>2</td>\n",
       "    </tr>\n",
       "  </tbody>\n",
       "</table>\n",
       "</div>"
      ],
      "text/plain": [
       "      title                  required_courses  \\\n",
       "0  minor_cs  (cs_124, cs_128, cs_173, cs_225)   \n",
       "\n",
       "                                    elective_courses  elective_num_required  \n",
       "0  (cs_307, cs_340, cs_341, cs_357, cs_361, cs_37...                      2  "
      ]
     },
     "metadata": {},
     "output_type": "display_data"
    }
   ],
   "source": [
    "test2 = req_finder(requirements, student_2)\n",
    "display(test2)"
   ]
  },
  {
   "cell_type": "code",
   "execution_count": 8,
   "metadata": {},
   "outputs": [
    {
     "data": {
      "text/html": [
       "<div>\n",
       "<style scoped>\n",
       "    .dataframe tbody tr th:only-of-type {\n",
       "        vertical-align: middle;\n",
       "    }\n",
       "\n",
       "    .dataframe tbody tr th {\n",
       "        vertical-align: top;\n",
       "    }\n",
       "\n",
       "    .dataframe thead th {\n",
       "        text-align: right;\n",
       "    }\n",
       "</style>\n",
       "<table border=\"1\" class=\"dataframe\">\n",
       "  <thead>\n",
       "    <tr style=\"text-align: right;\">\n",
       "      <th></th>\n",
       "      <th>title</th>\n",
       "      <th>required_courses</th>\n",
       "      <th>elective_courses</th>\n",
       "      <th>elective_num_required</th>\n",
       "    </tr>\n",
       "  </thead>\n",
       "  <tbody>\n",
       "    <tr>\n",
       "      <th>0</th>\n",
       "      <td>minor_cs</td>\n",
       "      <td>(cs_124, cs_128, cs_173, cs_225)</td>\n",
       "      <td>(cs_307, cs_340, cs_341, cs_357, cs_361, cs_37...</td>\n",
       "      <td>2</td>\n",
       "    </tr>\n",
       "  </tbody>\n",
       "</table>\n",
       "</div>"
      ],
      "text/plain": [
       "      title                  required_courses  \\\n",
       "0  minor_cs  (cs_124, cs_128, cs_173, cs_225)   \n",
       "\n",
       "                                    elective_courses  elective_num_required  \n",
       "0  (cs_307, cs_340, cs_341, cs_357, cs_361, cs_37...                      2  "
      ]
     },
     "metadata": {},
     "output_type": "display_data"
    }
   ],
   "source": [
    "test3 = req_finder(requirements, student_3)\n",
    "display(test3)"
   ]
  },
  {
   "cell_type": "code",
   "execution_count": 9,
   "metadata": {},
   "outputs": [
    {
     "data": {
      "text/html": [
       "<div>\n",
       "<style scoped>\n",
       "    .dataframe tbody tr th:only-of-type {\n",
       "        vertical-align: middle;\n",
       "    }\n",
       "\n",
       "    .dataframe tbody tr th {\n",
       "        vertical-align: top;\n",
       "    }\n",
       "\n",
       "    .dataframe thead th {\n",
       "        text-align: right;\n",
       "    }\n",
       "</style>\n",
       "<table border=\"1\" class=\"dataframe\">\n",
       "  <thead>\n",
       "    <tr style=\"text-align: right;\">\n",
       "      <th></th>\n",
       "      <th>title</th>\n",
       "      <th>required_courses</th>\n",
       "      <th>elective_courses</th>\n",
       "      <th>elective_num_required</th>\n",
       "    </tr>\n",
       "  </thead>\n",
       "  <tbody>\n",
       "  </tbody>\n",
       "</table>\n",
       "</div>"
      ],
      "text/plain": [
       "Empty DataFrame\n",
       "Columns: [title, required_courses, elective_courses, elective_num_required]\n",
       "Index: []"
      ]
     },
     "metadata": {},
     "output_type": "display_data"
    }
   ],
   "source": [
    "test4 = req_finder(requirements, student_4)\n",
    "display(test4)"
   ]
  },
  {
   "cell_type": "markdown",
   "metadata": {},
   "source": [
    "Using the req_finder, we now can see the minors/certificates relevant to a student's currently completed coursework. We now will try and create separation between the courses they have completed and what remains for required courses and elective courses. We will use student_3 to test this since they have completed a limited amount in both the required course and elective course columns."
   ]
  },
  {
   "cell_type": "code",
   "execution_count": 26,
   "metadata": {},
   "outputs": [
    {
     "data": {
      "text/html": [
       "<div>\n",
       "<style scoped>\n",
       "    .dataframe tbody tr th:only-of-type {\n",
       "        vertical-align: middle;\n",
       "    }\n",
       "\n",
       "    .dataframe tbody tr th {\n",
       "        vertical-align: top;\n",
       "    }\n",
       "\n",
       "    .dataframe thead th {\n",
       "        text-align: right;\n",
       "    }\n",
       "</style>\n",
       "<table border=\"1\" class=\"dataframe\">\n",
       "  <thead>\n",
       "    <tr style=\"text-align: right;\">\n",
       "      <th></th>\n",
       "      <th>title</th>\n",
       "      <th>required_courses</th>\n",
       "      <th>elective_courses</th>\n",
       "      <th>elective_num_required</th>\n",
       "    </tr>\n",
       "  </thead>\n",
       "  <tbody>\n",
       "    <tr>\n",
       "      <th>0</th>\n",
       "      <td>minor_cs</td>\n",
       "      <td>(cs_124, cs_128, cs_173, cs_225)</td>\n",
       "      <td>(cs_307, cs_340, cs_341, cs_357, cs_361, cs_37...</td>\n",
       "      <td>2</td>\n",
       "    </tr>\n",
       "  </tbody>\n",
       "</table>\n",
       "</div>"
      ],
      "text/plain": [
       "      title                  required_courses  \\\n",
       "0  minor_cs  (cs_124, cs_128, cs_173, cs_225)   \n",
       "\n",
       "                                    elective_courses  elective_num_required  \n",
       "0  (cs_307, cs_340, cs_341, cs_357, cs_361, cs_37...                      2  "
      ]
     },
     "metadata": {},
     "output_type": "display_data"
    }
   ],
   "source": [
    "student_3_courses = req_finder(requirements, student_3)\n",
    "display(student_3_courses)"
   ]
  },
  {
   "cell_type": "markdown",
   "metadata": {},
   "source": [
    "We create this function to separate between classes completed toward the given minor/certificate from those that still would need to be completed."
   ]
  },
  {
   "cell_type": "code",
   "execution_count": 29,
   "metadata": {},
   "outputs": [],
   "source": [
    "def completion_separator(student_courses, student):\n",
    "    '''\n",
    "        Input:\n",
    "            - student_courses: DataFrame, contains each minor/certificate and the associated requirements needed to achieve them for minors/certificates the student qualifies for.\n",
    "            - student: List, contains list of all courses completed by a given student\n",
    "        Output:\n",
    "            - returns DataFrame that separates which courses for minor/certificate have been completed versus those remaining\n",
    "        Purpose:\n",
    "            - completion_separator returns separation of remaining classes versus still needed classes for visualization purposes\n",
    "    '''\n",
    "    student_courses['completed_required_courses'] = student_courses['required_courses'].apply(lambda x: tuple(value for value in x if value in student))\n",
    "    student_courses['completed_elective_courses'] = student_courses['elective_courses'].apply(lambda x: tuple(value for value in x if value in student))\n",
    "\n",
    "    student_courses['remaining_required_courses'] = student_courses['required_courses'].apply(lambda x: tuple(value for value in x if value not in student))\n",
    "    student_courses['remaining_elective_courses'] = student_courses['elective_courses'].apply(lambda x: tuple(value for value in x if value not in student))\n",
    "\n",
    "\n",
    "    student_courses['elective_num_completed'] = len(student_courses['completed_elective_courses'])\n",
    "    student_courses['num_elective_remaining'] = student_courses['elective_num_required'] - student_courses['elective_num_completed']\n",
    "    student_courses['num_elective_remaining'] = student_courses['num_elective_remaining'].apply(lambda x: max(x, 0))\n",
    "\n",
    "    student_courses = student_courses.drop(columns={'required_courses', 'elective_courses', 'elective_num_required'})\n",
    "\n",
    "    return student_courses"
   ]
  },
  {
   "cell_type": "code",
   "execution_count": 28,
   "metadata": {},
   "outputs": [
    {
     "data": {
      "text/html": [
       "<div>\n",
       "<style scoped>\n",
       "    .dataframe tbody tr th:only-of-type {\n",
       "        vertical-align: middle;\n",
       "    }\n",
       "\n",
       "    .dataframe tbody tr th {\n",
       "        vertical-align: top;\n",
       "    }\n",
       "\n",
       "    .dataframe thead th {\n",
       "        text-align: right;\n",
       "    }\n",
       "</style>\n",
       "<table border=\"1\" class=\"dataframe\">\n",
       "  <thead>\n",
       "    <tr style=\"text-align: right;\">\n",
       "      <th></th>\n",
       "      <th>title</th>\n",
       "      <th>completed_required_courses</th>\n",
       "      <th>completed_elective_courses</th>\n",
       "      <th>remaining_required_courses</th>\n",
       "      <th>remaining_elective_courses</th>\n",
       "      <th>elective_num_completed</th>\n",
       "      <th>num_elective_remaining</th>\n",
       "    </tr>\n",
       "  </thead>\n",
       "  <tbody>\n",
       "    <tr>\n",
       "      <th>0</th>\n",
       "      <td>minor_cs</td>\n",
       "      <td>(cs_124,)</td>\n",
       "      <td>(cs_307,)</td>\n",
       "      <td>(cs_128, cs_173, cs_225)</td>\n",
       "      <td>(cs_340, cs_341, cs_357, cs_361, cs_374, cs_40...</td>\n",
       "      <td>1</td>\n",
       "      <td>1</td>\n",
       "    </tr>\n",
       "  </tbody>\n",
       "</table>\n",
       "</div>"
      ],
      "text/plain": [
       "      title completed_required_courses completed_elective_courses  \\\n",
       "0  minor_cs                  (cs_124,)                  (cs_307,)   \n",
       "\n",
       "  remaining_required_courses  \\\n",
       "0   (cs_128, cs_173, cs_225)   \n",
       "\n",
       "                          remaining_elective_courses  elective_num_completed  \\\n",
       "0  (cs_340, cs_341, cs_357, cs_361, cs_374, cs_40...                       1   \n",
       "\n",
       "   num_elective_remaining  \n",
       "0                       1  "
      ]
     },
     "metadata": {},
     "output_type": "display_data"
    }
   ],
   "source": [
    "separation_3 = completion_separator(student_3_courses, student_3)\n",
    "display(separation_3)"
   ]
  }
 ],
 "metadata": {
  "kernelspec": {
   "display_name": "Python 3 (ipykernel)",
   "language": "python",
   "name": "python3"
  },
  "language_info": {
   "codemirror_mode": {
    "name": "ipython",
    "version": 3
   },
   "file_extension": ".py",
   "mimetype": "text/x-python",
   "name": "python",
   "nbconvert_exporter": "python",
   "pygments_lexer": "ipython3",
   "version": "3.12.1"
  }
 },
 "nbformat": 4,
 "nbformat_minor": 2
}
