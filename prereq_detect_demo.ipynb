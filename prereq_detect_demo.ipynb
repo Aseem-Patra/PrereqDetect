{
 "cells": [
  {
   "cell_type": "code",
   "execution_count": 1,
   "metadata": {},
   "outputs": [],
   "source": [
    "import pandas as pd"
   ]
  },
  {
   "cell_type": "markdown",
   "metadata": {},
   "source": [
    "**PreReq Detect Demo**\n",
    "\n",
    "Here we will show off the basic idea behind the PreReq Detect application and how it would be used by a student at the U of I.\n",
    "Let us first start with the the basic setup of the app."
   ]
  },
  {
   "cell_type": "markdown",
   "metadata": {},
   "source": [
    "**Data Ingestion**\n",
    "\n",
    "At the current time, we do not have access to the data where these minor and certificate requirements are stored. In the mean time, we will create a sample of how the data may be stored in order to test out our concept"
   ]
  },
  {
   "cell_type": "code",
   "execution_count": 2,
   "metadata": {},
   "outputs": [],
   "source": [
    "#For now, not listing all elective courses to save space. In future, may instead alter data to instead determine class options based on excluded courses.\n",
    "#Additionally, some other standard of how these courses are stored will need to change based on manner of different minors and certificates are listed.\n",
    "\n",
    "requirements = pd.DataFrame({\n",
    "                             'title' : ['minor_cs'],\n",
    "                             'required_courses' : [['cs_124', 'cs_128', 'cs_173', 'cs_225']],\n",
    "                             'elective_courses' : [['cs_307', 'cs_340', 'cs_341', 'cs_357', 'cs_361', 'cs_374', 'cs_407', 'cs_409'],\n",
    "                                                    ],\n",
    "                             'elective_num_required' : [2]\n",
    "})"
   ]
  },
  {
   "cell_type": "code",
   "execution_count": 3,
   "metadata": {},
   "outputs": [
    {
     "data": {
      "text/html": [
       "<div>\n",
       "<style scoped>\n",
       "    .dataframe tbody tr th:only-of-type {\n",
       "        vertical-align: middle;\n",
       "    }\n",
       "\n",
       "    .dataframe tbody tr th {\n",
       "        vertical-align: top;\n",
       "    }\n",
       "\n",
       "    .dataframe thead th {\n",
       "        text-align: right;\n",
       "    }\n",
       "</style>\n",
       "<table border=\"1\" class=\"dataframe\">\n",
       "  <thead>\n",
       "    <tr style=\"text-align: right;\">\n",
       "      <th></th>\n",
       "      <th>title</th>\n",
       "      <th>required_courses</th>\n",
       "      <th>elective_courses</th>\n",
       "      <th>elective_num_required</th>\n",
       "    </tr>\n",
       "  </thead>\n",
       "  <tbody>\n",
       "    <tr>\n",
       "      <th>0</th>\n",
       "      <td>minor_cs</td>\n",
       "      <td>[cs_124, cs_128, cs_173, cs_225]</td>\n",
       "      <td>[cs_307, cs_340, cs_341, cs_357, cs_361, cs_37...</td>\n",
       "      <td>2</td>\n",
       "    </tr>\n",
       "  </tbody>\n",
       "</table>\n",
       "</div>"
      ],
      "text/plain": [
       "      title                  required_courses  \\\n",
       "0  minor_cs  [cs_124, cs_128, cs_173, cs_225]   \n",
       "\n",
       "                                    elective_courses  elective_num_required  \n",
       "0  [cs_307, cs_340, cs_341, cs_357, cs_361, cs_37...                      2  "
      ]
     },
     "metadata": {},
     "output_type": "display_data"
    }
   ],
   "source": [
    "display(requirements)"
   ]
  },
  {
   "cell_type": "markdown",
   "metadata": {},
   "source": [
    "We now will generate some potential students and see if we can use them to determine if they have any of the requirements needed to qualify at all for the listed minors/certificates."
   ]
  },
  {
   "cell_type": "code",
   "execution_count": 4,
   "metadata": {},
   "outputs": [],
   "source": [
    "#Completed required courses\n",
    "student_1 = ['cs_124', 'cs_128', 'cs_173', 'cs_225']\n",
    "\n",
    "#Completed enough elective courses\n",
    "student_2 = ['cs_307', 'cs_340', 'cs_341']\n",
    "\n",
    "#Completed some required and some elective courses\n",
    "student_3 = ['cs_124', 'cs_307']\n",
    "\n",
    "#Completed neither any required or elective courses\n",
    "student_4 = ['stat_107']"
   ]
  },
  {
   "cell_type": "markdown",
   "metadata": {},
   "source": [
    "We create this function to be used as a checker for both the required and elective course lists. "
   ]
  },
  {
   "cell_type": "code",
   "execution_count": 5,
   "metadata": {},
   "outputs": [],
   "source": [
    "def req_finder(requirements, student):\n",
    "    '''\n",
    "        Input:\n",
    "            - requirements: DataFrame, contains each minor/certificate and the associated requirements needed to achieve them.\n",
    "            - student: List, contains list of all courses completed by a given student\n",
    "        Output:\n",
    "            - returns DataFrame containing minors/certificates the student has completed some number of needed courses from.\n",
    "        Purpose:\n",
    "            - req_finder returns only the minors/certificates the student has any amount of classes completed for.\n",
    "    '''\n",
    "    filtered_requirements = requirements[requirements['required_courses'].apply(lambda x: any(item in student for item in x))]\n",
    "    filtered_electives = requirements[requirements['elective_courses'].apply(lambda x: any(item in student for item in x))]    \n",
    "    \n",
    "    filtered_courses = pd.concat([filtered_requirements, filtered_electives])\n",
    "\n",
    "    filtered_courses['required_courses'] = filtered_courses['required_courses'].apply(tuple)\n",
    "    filtered_courses['elective_courses'] = filtered_courses['elective_courses'].apply(tuple)\n",
    "\n",
    "    qualifying_programs = filtered_courses.drop_duplicates()\n",
    "\n",
    "    return qualifying_programs"
   ]
  },
  {
   "cell_type": "code",
   "execution_count": 6,
   "metadata": {},
   "outputs": [
    {
     "data": {
      "text/html": [
       "<div>\n",
       "<style scoped>\n",
       "    .dataframe tbody tr th:only-of-type {\n",
       "        vertical-align: middle;\n",
       "    }\n",
       "\n",
       "    .dataframe tbody tr th {\n",
       "        vertical-align: top;\n",
       "    }\n",
       "\n",
       "    .dataframe thead th {\n",
       "        text-align: right;\n",
       "    }\n",
       "</style>\n",
       "<table border=\"1\" class=\"dataframe\">\n",
       "  <thead>\n",
       "    <tr style=\"text-align: right;\">\n",
       "      <th></th>\n",
       "      <th>title</th>\n",
       "      <th>required_courses</th>\n",
       "      <th>elective_courses</th>\n",
       "      <th>elective_num_required</th>\n",
       "    </tr>\n",
       "  </thead>\n",
       "  <tbody>\n",
       "    <tr>\n",
       "      <th>0</th>\n",
       "      <td>minor_cs</td>\n",
       "      <td>(cs_124, cs_128, cs_173, cs_225)</td>\n",
       "      <td>(cs_307, cs_340, cs_341, cs_357, cs_361, cs_37...</td>\n",
       "      <td>2</td>\n",
       "    </tr>\n",
       "  </tbody>\n",
       "</table>\n",
       "</div>"
      ],
      "text/plain": [
       "      title                  required_courses  \\\n",
       "0  minor_cs  (cs_124, cs_128, cs_173, cs_225)   \n",
       "\n",
       "                                    elective_courses  elective_num_required  \n",
       "0  (cs_307, cs_340, cs_341, cs_357, cs_361, cs_37...                      2  "
      ]
     },
     "metadata": {},
     "output_type": "display_data"
    }
   ],
   "source": [
    "test1 = req_finder(requirements, student_1)\n",
    "display(test1)"
   ]
  },
  {
   "cell_type": "code",
   "execution_count": 7,
   "metadata": {},
   "outputs": [
    {
     "data": {
      "text/html": [
       "<div>\n",
       "<style scoped>\n",
       "    .dataframe tbody tr th:only-of-type {\n",
       "        vertical-align: middle;\n",
       "    }\n",
       "\n",
       "    .dataframe tbody tr th {\n",
       "        vertical-align: top;\n",
       "    }\n",
       "\n",
       "    .dataframe thead th {\n",
       "        text-align: right;\n",
       "    }\n",
       "</style>\n",
       "<table border=\"1\" class=\"dataframe\">\n",
       "  <thead>\n",
       "    <tr style=\"text-align: right;\">\n",
       "      <th></th>\n",
       "      <th>title</th>\n",
       "      <th>required_courses</th>\n",
       "      <th>elective_courses</th>\n",
       "      <th>elective_num_required</th>\n",
       "    </tr>\n",
       "  </thead>\n",
       "  <tbody>\n",
       "    <tr>\n",
       "      <th>0</th>\n",
       "      <td>minor_cs</td>\n",
       "      <td>(cs_124, cs_128, cs_173, cs_225)</td>\n",
       "      <td>(cs_307, cs_340, cs_341, cs_357, cs_361, cs_37...</td>\n",
       "      <td>2</td>\n",
       "    </tr>\n",
       "  </tbody>\n",
       "</table>\n",
       "</div>"
      ],
      "text/plain": [
       "      title                  required_courses  \\\n",
       "0  minor_cs  (cs_124, cs_128, cs_173, cs_225)   \n",
       "\n",
       "                                    elective_courses  elective_num_required  \n",
       "0  (cs_307, cs_340, cs_341, cs_357, cs_361, cs_37...                      2  "
      ]
     },
     "metadata": {},
     "output_type": "display_data"
    }
   ],
   "source": [
    "test2 = req_finder(requirements, student_2)\n",
    "display(test2)"
   ]
  },
  {
   "cell_type": "code",
   "execution_count": 8,
   "metadata": {},
   "outputs": [
    {
     "data": {
      "text/html": [
       "<div>\n",
       "<style scoped>\n",
       "    .dataframe tbody tr th:only-of-type {\n",
       "        vertical-align: middle;\n",
       "    }\n",
       "\n",
       "    .dataframe tbody tr th {\n",
       "        vertical-align: top;\n",
       "    }\n",
       "\n",
       "    .dataframe thead th {\n",
       "        text-align: right;\n",
       "    }\n",
       "</style>\n",
       "<table border=\"1\" class=\"dataframe\">\n",
       "  <thead>\n",
       "    <tr style=\"text-align: right;\">\n",
       "      <th></th>\n",
       "      <th>title</th>\n",
       "      <th>required_courses</th>\n",
       "      <th>elective_courses</th>\n",
       "      <th>elective_num_required</th>\n",
       "    </tr>\n",
       "  </thead>\n",
       "  <tbody>\n",
       "    <tr>\n",
       "      <th>0</th>\n",
       "      <td>minor_cs</td>\n",
       "      <td>(cs_124, cs_128, cs_173, cs_225)</td>\n",
       "      <td>(cs_307, cs_340, cs_341, cs_357, cs_361, cs_37...</td>\n",
       "      <td>2</td>\n",
       "    </tr>\n",
       "  </tbody>\n",
       "</table>\n",
       "</div>"
      ],
      "text/plain": [
       "      title                  required_courses  \\\n",
       "0  minor_cs  (cs_124, cs_128, cs_173, cs_225)   \n",
       "\n",
       "                                    elective_courses  elective_num_required  \n",
       "0  (cs_307, cs_340, cs_341, cs_357, cs_361, cs_37...                      2  "
      ]
     },
     "metadata": {},
     "output_type": "display_data"
    }
   ],
   "source": [
    "test3 = req_finder(requirements, student_3)\n",
    "display(test3)"
   ]
  },
  {
   "cell_type": "code",
   "execution_count": 9,
   "metadata": {},
   "outputs": [
    {
     "data": {
      "text/html": [
       "<div>\n",
       "<style scoped>\n",
       "    .dataframe tbody tr th:only-of-type {\n",
       "        vertical-align: middle;\n",
       "    }\n",
       "\n",
       "    .dataframe tbody tr th {\n",
       "        vertical-align: top;\n",
       "    }\n",
       "\n",
       "    .dataframe thead th {\n",
       "        text-align: right;\n",
       "    }\n",
       "</style>\n",
       "<table border=\"1\" class=\"dataframe\">\n",
       "  <thead>\n",
       "    <tr style=\"text-align: right;\">\n",
       "      <th></th>\n",
       "      <th>title</th>\n",
       "      <th>required_courses</th>\n",
       "      <th>elective_courses</th>\n",
       "      <th>elective_num_required</th>\n",
       "    </tr>\n",
       "  </thead>\n",
       "  <tbody>\n",
       "  </tbody>\n",
       "</table>\n",
       "</div>"
      ],
      "text/plain": [
       "Empty DataFrame\n",
       "Columns: [title, required_courses, elective_courses, elective_num_required]\n",
       "Index: []"
      ]
     },
     "metadata": {},
     "output_type": "display_data"
    }
   ],
   "source": [
    "test4 = req_finder(requirements, student_4)\n",
    "display(test4)"
   ]
  },
  {
   "cell_type": "markdown",
   "metadata": {},
   "source": [
    "Using the req_finder, we now can see the minors/certificates relevant to a student's currently completed coursework. We now will try and create separation between the courses they have completed and what remains for required courses and elective courses"
   ]
  }
 ],
 "metadata": {
  "kernelspec": {
   "display_name": "Python 3 (ipykernel)",
   "language": "python",
   "name": "python3"
  },
  "language_info": {
   "codemirror_mode": {
    "name": "ipython",
    "version": 3
   },
   "file_extension": ".py",
   "mimetype": "text/x-python",
   "name": "python",
   "nbconvert_exporter": "python",
   "pygments_lexer": "ipython3",
   "version": "3.12.1"
  }
 },
 "nbformat": 4,
 "nbformat_minor": 2
}
